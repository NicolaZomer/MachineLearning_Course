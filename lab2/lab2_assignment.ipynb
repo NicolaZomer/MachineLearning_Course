{
 "cells": [
  {
   "cell_type": "markdown",
   "metadata": {},
   "source": [
    "# Kuzushiji Classification with Support Vector Machines\n",
    "\n",
    "In this notebook we are going to explore the use of Support Vector Machines (SVM) for image classification. We will use a variant of the famous MNIST dataset (the original is a dataset of handwritten digits). The version we are going to use is called Kuzushiji-MNIST or K-MNIST for short (https://github.com/rois-codh/kmnist) and is a dataset of traditional japanese handwritten kana.\n",
    "\n",
    "\n",
    "\n",
    "The dataset labels are the following:\n",
    "\n",
    "| Label | Hiragana Character | Romanji (Pronunciation) |\n",
    "| :-: | :-: | :-: |\n",
    "|   0   | お | o |\n",
    "| 1 | き | ki |\n",
    "| 2 | す | su |\n",
    "| 3 | つ | tsu |\n",
    "| 4 | な | na |\n",
    "| 5 | は | ha |\n",
    "| 6 | ま | ma |\n",
    "| 7 | や | ya |\n",
    "| 8 | れ | re |\n",
    "| 9 | を | wo |"
   ]
  },
  {
   "cell_type": "code",
   "execution_count": 1,
   "metadata": {},
   "outputs": [],
   "source": [
    "kuzushiji_symbols = ['お', 'き', 'す', 'つ', 'な', 'は', 'ま', 'や', 'れ', 'を']"
   ]
  },
  {
   "cell_type": "markdown",
   "metadata": {},
   "source": [
    "## TODO: Insert your surname, name and ID number\n",
    "\n",
    "Student surname: Zomer\n",
    "\n",
    "Student name: Nicola \n",
    "    \n",
    "ID: 2058479"
   ]
  },
  {
   "cell_type": "code",
   "execution_count": 2,
   "metadata": {},
   "outputs": [],
   "source": [
    "#load the required packages\n",
    "\n",
    "%matplotlib inline  \n",
    "\n",
    "import numpy as np\n",
    "import scipy as sp\n",
    "import matplotlib.pyplot as plt\n",
    "\n",
    "import sklearn\n",
    "from sklearn.datasets import fetch_openml\n",
    "from sklearn.neural_network import MLPClassifier\n",
    "from sklearn.decomposition import PCA\n",
    "import sklearn.metrics as skm"
   ]
  },
  {
   "cell_type": "code",
   "execution_count": 3,
   "metadata": {},
   "outputs": [],
   "source": [
    "# helper function to load Kuzushiji-MNIST dataset\n",
    "def load_mnist(path, kind='train'):\n",
    "    import os\n",
    "    import gzip\n",
    "    import numpy as np\n",
    "    labels_path = os.path.join(path, 'K%s-labels-idx1-ubyte.gz' % kind)\n",
    "    images_path = os.path.join(path, 'K%s-images-idx3-ubyte.gz' % kind)\n",
    "    with gzip.open(labels_path, 'rb') as lbpath:\n",
    "        labels = np.frombuffer(lbpath.read(), dtype=np.uint8,offset=8)\n",
    "    with gzip.open(images_path, 'rb') as imgpath:\n",
    "        images = np.frombuffer(imgpath.read(), dtype=np.uint8,offset=16).reshape(len(labels), 784)\n",
    "    return images, labels"
   ]
  },
  {
   "cell_type": "code",
   "execution_count": 4,
   "metadata": {},
   "outputs": [],
   "source": [
    "#fix your ID (\"numero di matricola\") and the seed for random generator (as usual you can try different seeds)\n",
    "ID = 2058479\n",
    "np.random.seed(ID)"
   ]
  },
  {
   "cell_type": "code",
   "execution_count": 5,
   "metadata": {},
   "outputs": [
    {
     "name": "stdout",
     "output_type": "stream",
     "text": [
      "(60000, 784) (60000,)\n",
      "float64 uint8\n"
     ]
    }
   ],
   "source": [
    "#load the K-MNIST dataset from the 'data' folder and let's normalize the features so that each value is in [0,1] \n",
    "\n",
    "X, y = load_mnist('data', kind='train')\n",
    "# rescale the data\n",
    "X, y = X / 255., y # original pixel values are between 0 and 255\n",
    "print(X.shape, y.shape)\n",
    "print(X.dtype, y.dtype)\n",
    "\n",
    "# 60000 samples, each featuring 784 pixels"
   ]
  },
  {
   "cell_type": "markdown",
   "metadata": {},
   "source": [
    "Now split into training and test. Make sure that each label is present at least 10 times\n",
    "in training. If it is not, then keep adding permutations to the initial data until this \n",
    "happens."
   ]
  },
  {
   "cell_type": "code",
   "execution_count": 6,
   "metadata": {},
   "outputs": [],
   "source": [
    "# FUNCTION FOR CHECKING IF EACH UNIQUE LABEL APPEARS IN THE ARRAY A MINIMUM NUMBER OF TIMES\n",
    "\n",
    "def check_minimum_labels(Y, minimum):\n",
    "    # Y has to be a np array\n",
    "    labels = np.unique(Y)\n",
    "    for label in labels:\n",
    "        if np.sum(Y==label) < minimum:\n",
    "            return False\n",
    "    return True   "
   ]
  },
  {
   "cell_type": "code",
   "execution_count": 7,
   "metadata": {},
   "outputs": [
    {
     "name": "stdout",
     "output_type": "stream",
     "text": [
      "Labels in training dataset:  [0 1 2 3 4 5 6 7 8 9]\n",
      "Frequencies in training dataset:  [61 47 58 73 67 59 59 66 56 54]\n"
     ]
    }
   ],
   "source": [
    "# Random permute the data and split into training and test taking the first \n",
    "# 600 data samples as training and 4000 samples as test\n",
    "permutation = np.random.permutation(X.shape[0])\n",
    "\n",
    "X = X[permutation]\n",
    "y = y[permutation]\n",
    "\n",
    "# we don't use the whole dataset\n",
    "m_training = 600\n",
    "m_test = 4000\n",
    "\n",
    "X_train, X_test = X[:m_training], X[m_training:m_training+m_test:]\n",
    "y_train, y_test = y[:m_training], y[m_training:m_training+m_test:]\n",
    "\n",
    "while not check_minimum_labels(y_train, 10):\n",
    "    permutation = np.random.permutation(X.shape[0]) # again random permutation\n",
    "    \n",
    "    X = X[permutation]\n",
    "    y = y[permutation]\n",
    "    \n",
    "    X_train, X_test = X[:m_training], X[m_training:m_training+m_test:]\n",
    "    y_train, y_test = y[:m_training], y[m_training:m_training+m_test:]\n",
    "\n",
    "labels, freqs = np.unique(y_train, return_counts=True)\n",
    "# If 'return_counts' is True, also return the number of times each unique item appears in the array\n",
    "print(\"Labels in training dataset: \", labels)\n",
    "print(\"Frequencies in training dataset: \", freqs)\n"
   ]
  },
  {
   "cell_type": "code",
   "execution_count": 8,
   "metadata": {},
   "outputs": [],
   "source": [
    "#function for plotting a image and printing the corresponding label\n",
    "def plot_input(X_matrix, labels, index):\n",
    "    print(\"LABEL: %i\"%labels[index])\n",
    "    print(\"INPUT:\")\n",
    "    plt.imshow(\n",
    "        X_matrix[index].reshape(28,28),\n",
    "        cmap          = plt.cm.gray_r,\n",
    "        interpolation = \"nearest\"\n",
    "    )\n",
    "    plt.show()\n",
    "    return"
   ]
  },
  {
   "cell_type": "code",
   "execution_count": 9,
   "metadata": {},
   "outputs": [
    {
     "name": "stdout",
     "output_type": "stream",
     "text": [
      "LABEL: 0\n",
      "INPUT:\n"
     ]
    },
    {
     "data": {
      "image/png": "[encoded data removed]",
      "text/plain": [
       "<Figure size 432x288 with 1 Axes>"
      ]
     },
     "metadata": {
      "needs_background": "light"
     },
     "output_type": "display_data"
    },
    {
     "name": "stdout",
     "output_type": "stream",
     "text": [
      "LABEL: 0\n",
      "INPUT:\n"
     ]
    },
    {
     "data": {
      "image/png": "[encoded data removed]",
      "text/plain": [
       "<Figure size 432x288 with 1 Axes>"
      ]
     },
     "metadata": {
      "needs_background": "light"
     },
     "output_type": "display_data"
    },
    {
     "name": "stdout",
     "output_type": "stream",
     "text": [
      "LABEL: 0\n",
      "INPUT:\n"
     ]
    },
    {
     "data": {
      "image/png": "[encoded data removed]",
      "text/plain": [
       "<Figure size 432x288 with 1 Axes>"
      ]
     },
     "metadata": {
      "needs_background": "light"
     },
     "output_type": "display_data"
    },
    {
     "name": "stdout",
     "output_type": "stream",
     "text": [
      "LABEL: 9\n",
      "INPUT:\n"
     ]
    },
    {
     "data": {
      "image/png": "[encoded data removed]",
      "text/plain": [
       "<Figure size 432x288 with 1 Axes>"
      ]
     },
     "metadata": {
      "needs_background": "light"
     },
     "output_type": "display_data"
    }
   ],
   "source": [
    "#let's try the plotting function\n",
    "plot_input(X_train,y_train,5)\n",
    "plot_input(X_test,y_test,50)\n",
    "plot_input(X_test,y_test,500)\n",
    "plot_input(X_test,y_test,700)"
   ]
  },
  {
   "cell_type": "markdown",
   "metadata": {},
   "source": [
    "## TO DO 1\n",
    "Use a SVM classifier with cross validation to pick a model. Use a **4-fold cross-validation**. Let's start with a Linear kernel:"
   ]
  },
  {
   "cell_type": "code",
   "execution_count": 10,
   "metadata": {},
   "outputs": [],
   "source": [
    "#import SVC\n",
    "from sklearn.svm import SVC\n",
    "#import for Cross-vcValidation\n",
    "from sklearn.model_selection import GridSearchCV\n",
    "import pandas as pd"
   ]
  },
  {
   "cell_type": "code",
   "execution_count": 11,
   "metadata": {},
   "outputs": [
    {
     "name": "stdout",
     "output_type": "stream",
     "text": [
      "RESULTS FOR LINEAR KERNEL\n",
      "Best parameters set found:\n",
      "{'C': 0.01}\n",
      "\n",
      "Score with best parameters:\n",
      "0.73\n",
      "\n",
      "All scores on the grid:\n"
     ]
    },
    {
     "data": {
      "text/html": [
       "<style type=\"text/css\">\n",
       "#T_7e33c_row0_col1 {\n",
       "  color: lightgray;\n",
       "  font-weight: bold;\n",
       "  background-color: darkblue;\n",
       "}\n",
       "</style>\n",
       "<table id=\"T_7e33c_\">\n",
       "  <thead>\n",
       "    <tr>\n",
       "      <th class=\"blank level0\" >&nbsp;</th>\n",
       "      <th class=\"col_heading level0 col0\" >C</th>\n",
       "      <th class=\"col_heading level0 col1\" >mean score</th>\n",
       "    </tr>\n",
       "  </thead>\n",
       "  <tbody>\n",
       "    <tr>\n",
       "      <th id=\"T_7e33c_level0_row0\" class=\"row_heading level0 row0\" >0</th>\n",
       "      <td id=\"T_7e33c_row0_col0\" class=\"data row0 col0\" >0.010000</td>\n",
       "      <td id=\"T_7e33c_row0_col1\" class=\"data row0 col1\" >0.730000</td>\n",
       "    </tr>\n",
       "    <tr>\n",
       "      <th id=\"T_7e33c_level0_row1\" class=\"row_heading level0 row1\" >1</th>\n",
       "      <td id=\"T_7e33c_row1_col0\" class=\"data row1 col0\" >0.100000</td>\n",
       "      <td id=\"T_7e33c_row1_col1\" class=\"data row1 col1\" >0.728333</td>\n",
       "    </tr>\n",
       "    <tr>\n",
       "      <th id=\"T_7e33c_level0_row2\" class=\"row_heading level0 row2\" >2</th>\n",
       "      <td id=\"T_7e33c_row2_col0\" class=\"data row2 col0\" >1.000000</td>\n",
       "      <td id=\"T_7e33c_row2_col1\" class=\"data row2 col1\" >0.725000</td>\n",
       "    </tr>\n",
       "    <tr>\n",
       "      <th id=\"T_7e33c_level0_row3\" class=\"row_heading level0 row3\" >3</th>\n",
       "      <td id=\"T_7e33c_row3_col0\" class=\"data row3 col0\" >10.000000</td>\n",
       "      <td id=\"T_7e33c_row3_col1\" class=\"data row3 col1\" >0.725000</td>\n",
       "    </tr>\n",
       "  </tbody>\n",
       "</table>\n"
      ],
      "text/plain": [
       "<pandas.io.formats.style.Styler at 0x21882e75100>"
      ]
     },
     "execution_count": 11,
     "metadata": {},
     "output_type": "execute_result"
    }
   ],
   "source": [
    "# parameters for linear SVM\n",
    "parameters = {'C': [0.01, 0.1, 1, 10]}\n",
    "\n",
    "# train linear SVM\n",
    "svc = SVC(kernel = 'linear')\n",
    "lin_clf = GridSearchCV(svc, parameters, cv=4)  # cv is an integer, to specify the number of folds in a KFold (default is 5)\n",
    "lin_model = lin_clf.fit(X_train, y_train)\n",
    "\n",
    "print ('RESULTS FOR LINEAR KERNEL')\n",
    "print(\"Best parameters set found:\")\n",
    "print(lin_model.best_params_)\n",
    "\n",
    "print(\"\\nScore with best parameters:\")\n",
    "print(lin_model.best_score_)\n",
    "\n",
    "print(\"\\nAll scores on the grid:\")\n",
    "# params_comb = lin_model.cv_results_['params']\n",
    "mean_scores = lin_model.cv_results_['mean_test_score']\n",
    "\n",
    "df = pd.DataFrame({'C': parameters['C'], 'mean score': mean_scores})\n",
    "df.style.highlight_max(subset='mean score', props='color:lightgray; font-weight:bold; background-color:darkblue;')"
   ]
  },
  {
   "cell_type": "markdown",
   "metadata": {},
   "source": [
    "## TO DO 2\n",
    "Pick a model for the Polynomial kernel with degree=2:"
   ]
  },
  {
   "cell_type": "code",
   "execution_count": 12,
   "metadata": {},
   "outputs": [
    {
     "name": "stdout",
     "output_type": "stream",
     "text": [
      "RESULTS FOR POLY DEGREE=2 KERNEL\n",
      "Best parameters set found:\n",
      "{'C': 0.01, 'gamma': 1}\n",
      "\n",
      "Score with best parameters:\n",
      "0.7766666666666667\n",
      "\n",
      "All scores on the grid:\n"
     ]
    },
    {
     "data": {
      "text/html": [
       "<style type=\"text/css\">\n",
       "#T_1f57d_row2_col2, #T_1f57d_row4_col2, #T_1f57d_row5_col2, #T_1f57d_row7_col2, #T_1f57d_row8_col2 {\n",
       "  color: lightgray;\n",
       "  font-weight: bold;\n",
       "  background-color: darkblue;\n",
       "}\n",
       "</style>\n",
       "<table id=\"T_1f57d_\">\n",
       "  <thead>\n",
       "    <tr>\n",
       "      <th class=\"blank level0\" >&nbsp;</th>\n",
       "      <th class=\"col_heading level0 col0\" >C</th>\n",
       "      <th class=\"col_heading level0 col1\" >gamma</th>\n",
       "      <th class=\"col_heading level0 col2\" >mean score</th>\n",
       "    </tr>\n",
       "  </thead>\n",
       "  <tbody>\n",
       "    <tr>\n",
       "      <th id=\"T_1f57d_level0_row0\" class=\"row_heading level0 row0\" >0</th>\n",
       "      <td id=\"T_1f57d_row0_col0\" class=\"data row0 col0\" >0.010000</td>\n",
       "      <td id=\"T_1f57d_row0_col1\" class=\"data row0 col1\" >0.010000</td>\n",
       "      <td id=\"T_1f57d_row0_col2\" class=\"data row0 col2\" >0.121667</td>\n",
       "    </tr>\n",
       "    <tr>\n",
       "      <th id=\"T_1f57d_level0_row1\" class=\"row_heading level0 row1\" >1</th>\n",
       "      <td id=\"T_1f57d_row1_col0\" class=\"data row1 col0\" >0.010000</td>\n",
       "      <td id=\"T_1f57d_row1_col1\" class=\"data row1 col1\" >0.100000</td>\n",
       "      <td id=\"T_1f57d_row1_col2\" class=\"data row1 col2\" >0.748333</td>\n",
       "    </tr>\n",
       "    <tr>\n",
       "      <th id=\"T_1f57d_level0_row2\" class=\"row_heading level0 row2\" >2</th>\n",
       "      <td id=\"T_1f57d_row2_col0\" class=\"data row2 col0\" >0.010000</td>\n",
       "      <td id=\"T_1f57d_row2_col1\" class=\"data row2 col1\" >1.000000</td>\n",
       "      <td id=\"T_1f57d_row2_col2\" class=\"data row2 col2\" >0.776667</td>\n",
       "    </tr>\n",
       "    <tr>\n",
       "      <th id=\"T_1f57d_level0_row3\" class=\"row_heading level0 row3\" >3</th>\n",
       "      <td id=\"T_1f57d_row3_col0\" class=\"data row3 col0\" >0.100000</td>\n",
       "      <td id=\"T_1f57d_row3_col1\" class=\"data row3 col1\" >0.010000</td>\n",
       "      <td id=\"T_1f57d_row3_col2\" class=\"data row3 col2\" >0.523333</td>\n",
       "    </tr>\n",
       "    <tr>\n",
       "      <th id=\"T_1f57d_level0_row4\" class=\"row_heading level0 row4\" >4</th>\n",
       "      <td id=\"T_1f57d_row4_col0\" class=\"data row4 col0\" >0.100000</td>\n",
       "      <td id=\"T_1f57d_row4_col1\" class=\"data row4 col1\" >0.100000</td>\n",
       "      <td id=\"T_1f57d_row4_col2\" class=\"data row4 col2\" >0.776667</td>\n",
       "    </tr>\n",
       "    <tr>\n",
       "      <th id=\"T_1f57d_level0_row5\" class=\"row_heading level0 row5\" >5</th>\n",
       "      <td id=\"T_1f57d_row5_col0\" class=\"data row5 col0\" >0.100000</td>\n",
       "      <td id=\"T_1f57d_row5_col1\" class=\"data row5 col1\" >1.000000</td>\n",
       "      <td id=\"T_1f57d_row5_col2\" class=\"data row5 col2\" >0.776667</td>\n",
       "    </tr>\n",
       "    <tr>\n",
       "      <th id=\"T_1f57d_level0_row6\" class=\"row_heading level0 row6\" >6</th>\n",
       "      <td id=\"T_1f57d_row6_col0\" class=\"data row6 col0\" >1.000000</td>\n",
       "      <td id=\"T_1f57d_row6_col1\" class=\"data row6 col1\" >0.010000</td>\n",
       "      <td id=\"T_1f57d_row6_col2\" class=\"data row6 col2\" >0.748333</td>\n",
       "    </tr>\n",
       "    <tr>\n",
       "      <th id=\"T_1f57d_level0_row7\" class=\"row_heading level0 row7\" >7</th>\n",
       "      <td id=\"T_1f57d_row7_col0\" class=\"data row7 col0\" >1.000000</td>\n",
       "      <td id=\"T_1f57d_row7_col1\" class=\"data row7 col1\" >0.100000</td>\n",
       "      <td id=\"T_1f57d_row7_col2\" class=\"data row7 col2\" >0.776667</td>\n",
       "    </tr>\n",
       "    <tr>\n",
       "      <th id=\"T_1f57d_level0_row8\" class=\"row_heading level0 row8\" >8</th>\n",
       "      <td id=\"T_1f57d_row8_col0\" class=\"data row8 col0\" >1.000000</td>\n",
       "      <td id=\"T_1f57d_row8_col1\" class=\"data row8 col1\" >1.000000</td>\n",
       "      <td id=\"T_1f57d_row8_col2\" class=\"data row8 col2\" >0.776667</td>\n",
       "    </tr>\n",
       "  </tbody>\n",
       "</table>\n"
      ],
      "text/plain": [
       "<pandas.io.formats.style.Styler at 0x2188bf96ac0>"
      ]
     },
     "execution_count": 12,
     "metadata": {},
     "output_type": "execute_result"
    }
   ],
   "source": [
    "# parameters for poly with degree 2 kernel\n",
    "parameters = {'C': [0.01, 0.1, 1],'gamma':[0.01,0.1,1]}\n",
    "\n",
    "# run SVM with poly of degree 2 kernel\n",
    "\n",
    "svc = SVC(kernel = 'poly', degree = 2)\n",
    "deg2_clf = GridSearchCV(svc, parameters, cv=4)\n",
    "deg2_model = deg2_clf.fit(X_train, y_train)\n",
    "\n",
    "print ('RESULTS FOR POLY DEGREE=2 KERNEL')\n",
    "print(\"Best parameters set found:\")\n",
    "print(deg2_model.best_params_)\n",
    "\n",
    "print(\"\\nScore with best parameters:\")\n",
    "print(deg2_model.best_score_)\n",
    "\n",
    "print(\"\\nAll scores on the grid:\")\n",
    "params_comb = deg2_model.cv_results_['params']\n",
    "mean_scores = deg2_model.cv_results_['mean_test_score']\n",
    "\n",
    "df = pd.DataFrame({'C': [x['C'] for x in params_comb], 'gamma': [x['gamma'] for x in params_comb], 'mean score': mean_scores})\n",
    "df.style.highlight_max(subset='mean score', props='color:lightgray; font-weight:bold; background-color:darkblue;')\n"
   ]
  },
  {
   "cell_type": "markdown",
   "metadata": {},
   "source": [
    "## TO DO 3\n",
    "\n",
    "Now let's try a higher degree for the polynomial kernel (e.g., 3rd degree)."
   ]
  },
  {
   "cell_type": "code",
   "execution_count": 13,
   "metadata": {},
   "outputs": [
    {
     "name": "stdout",
     "output_type": "stream",
     "text": [
      "RESULTS FOR POLY DEGREE= 3  KERNEL\n",
      "Best parameters set found:\n",
      "{'C': 0.01, 'gamma': 0.1}\n",
      "\n",
      "Score with best parameters:\n",
      "0.73\n",
      "\n",
      "All scores on the grid:\n"
     ]
    },
    {
     "data": {
      "text/html": [
       "<style type=\"text/css\">\n",
       "#T_9eae9_row1_col2 {\n",
       "  color: lightgray;\n",
       "  font-weight: bold;\n",
       "  background-color: darkblue;\n",
       "}\n",
       "</style>\n",
       "<table id=\"T_9eae9_\">\n",
       "  <thead>\n",
       "    <tr>\n",
       "      <th class=\"blank level0\" >&nbsp;</th>\n",
       "      <th class=\"col_heading level0 col0\" >C</th>\n",
       "      <th class=\"col_heading level0 col1\" >gamma</th>\n",
       "      <th class=\"col_heading level0 col2\" >mean score</th>\n",
       "    </tr>\n",
       "  </thead>\n",
       "  <tbody>\n",
       "    <tr>\n",
       "      <th id=\"T_9eae9_level0_row0\" class=\"row_heading level0 row0\" >0</th>\n",
       "      <td id=\"T_9eae9_row0_col0\" class=\"data row0 col0\" >0.010000</td>\n",
       "      <td id=\"T_9eae9_row0_col1\" class=\"data row0 col1\" >0.010000</td>\n",
       "      <td id=\"T_9eae9_row0_col2\" class=\"data row0 col2\" >0.121667</td>\n",
       "    </tr>\n",
       "    <tr>\n",
       "      <th id=\"T_9eae9_level0_row1\" class=\"row_heading level0 row1\" >1</th>\n",
       "      <td id=\"T_9eae9_row1_col0\" class=\"data row1 col0\" >0.010000</td>\n",
       "      <td id=\"T_9eae9_row1_col1\" class=\"data row1 col1\" >0.100000</td>\n",
       "      <td id=\"T_9eae9_row1_col2\" class=\"data row1 col2\" >0.730000</td>\n",
       "    </tr>\n",
       "    <tr>\n",
       "      <th id=\"T_9eae9_level0_row2\" class=\"row_heading level0 row2\" >2</th>\n",
       "      <td id=\"T_9eae9_row2_col0\" class=\"data row2 col0\" >0.010000</td>\n",
       "      <td id=\"T_9eae9_row2_col1\" class=\"data row2 col1\" >1.000000</td>\n",
       "      <td id=\"T_9eae9_row2_col2\" class=\"data row2 col2\" >0.706667</td>\n",
       "    </tr>\n",
       "    <tr>\n",
       "      <th id=\"T_9eae9_level0_row3\" class=\"row_heading level0 row3\" >3</th>\n",
       "      <td id=\"T_9eae9_row3_col0\" class=\"data row3 col0\" >0.100000</td>\n",
       "      <td id=\"T_9eae9_row3_col1\" class=\"data row3 col1\" >0.010000</td>\n",
       "      <td id=\"T_9eae9_row3_col2\" class=\"data row3 col2\" >0.406667</td>\n",
       "    </tr>\n",
       "    <tr>\n",
       "      <th id=\"T_9eae9_level0_row4\" class=\"row_heading level0 row4\" >4</th>\n",
       "      <td id=\"T_9eae9_row4_col0\" class=\"data row4 col0\" >0.100000</td>\n",
       "      <td id=\"T_9eae9_row4_col1\" class=\"data row4 col1\" >0.100000</td>\n",
       "      <td id=\"T_9eae9_row4_col2\" class=\"data row4 col2\" >0.705000</td>\n",
       "    </tr>\n",
       "    <tr>\n",
       "      <th id=\"T_9eae9_level0_row5\" class=\"row_heading level0 row5\" >5</th>\n",
       "      <td id=\"T_9eae9_row5_col0\" class=\"data row5 col0\" >0.100000</td>\n",
       "      <td id=\"T_9eae9_row5_col1\" class=\"data row5 col1\" >1.000000</td>\n",
       "      <td id=\"T_9eae9_row5_col2\" class=\"data row5 col2\" >0.706667</td>\n",
       "    </tr>\n",
       "    <tr>\n",
       "      <th id=\"T_9eae9_level0_row6\" class=\"row_heading level0 row6\" >6</th>\n",
       "      <td id=\"T_9eae9_row6_col0\" class=\"data row6 col0\" >1.000000</td>\n",
       "      <td id=\"T_9eae9_row6_col1\" class=\"data row6 col1\" >0.010000</td>\n",
       "      <td id=\"T_9eae9_row6_col2\" class=\"data row6 col2\" >0.716667</td>\n",
       "    </tr>\n",
       "    <tr>\n",
       "      <th id=\"T_9eae9_level0_row7\" class=\"row_heading level0 row7\" >7</th>\n",
       "      <td id=\"T_9eae9_row7_col0\" class=\"data row7 col0\" >1.000000</td>\n",
       "      <td id=\"T_9eae9_row7_col1\" class=\"data row7 col1\" >0.100000</td>\n",
       "      <td id=\"T_9eae9_row7_col2\" class=\"data row7 col2\" >0.706667</td>\n",
       "    </tr>\n",
       "    <tr>\n",
       "      <th id=\"T_9eae9_level0_row8\" class=\"row_heading level0 row8\" >8</th>\n",
       "      <td id=\"T_9eae9_row8_col0\" class=\"data row8 col0\" >1.000000</td>\n",
       "      <td id=\"T_9eae9_row8_col1\" class=\"data row8 col1\" >1.000000</td>\n",
       "      <td id=\"T_9eae9_row8_col2\" class=\"data row8 col2\" >0.706667</td>\n",
       "    </tr>\n",
       "  </tbody>\n",
       "</table>\n"
      ],
      "text/plain": [
       "<pandas.io.formats.style.Styler at 0x2188bf96eb0>"
      ]
     },
     "execution_count": 13,
     "metadata": {},
     "output_type": "execute_result"
    }
   ],
   "source": [
    "# parameters for poly with higher degree kernel\n",
    "parameters = {'C': [0.01, 0.1, 1],'gamma':[0.01,0.1,1]}\n",
    "\n",
    "#run SVM with poly of higher degree kernel\n",
    "deg = 3\n",
    "\n",
    "svc = SVC(kernel = 'poly', degree=deg)\n",
    "deg3_clf = GridSearchCV(svc, parameters, cv=4)\n",
    "deg3_model = deg3_clf.fit(X_train, y_train)\n",
    "\n",
    "print ('RESULTS FOR POLY DEGREE=', deg, ' KERNEL')\n",
    "print(\"Best parameters set found:\")\n",
    "print(deg3_model.best_params_)\n",
    "\n",
    "print(\"\\nScore with best parameters:\")\n",
    "print(deg3_model.best_score_)\n",
    "\n",
    "print(\"\\nAll scores on the grid:\")\n",
    "params_comb = deg3_model.cv_results_['params']\n",
    "mean_scores = deg3_model.cv_results_['mean_test_score']\n",
    "\n",
    "df = pd.DataFrame({'C': [x['C'] for x in params_comb], 'gamma': [x['gamma'] for x in params_comb], 'mean score': mean_scores})\n",
    "df.style.highlight_max(subset='mean score', props='color:lightgray; font-weight:bold; background-color:darkblue;')"
   ]
  },
  {
   "cell_type": "markdown",
   "metadata": {},
   "source": [
    "## TO DO 4\n",
    "Pick a model for the Radial Basis Function kernel:"
   ]
  },
  {
   "cell_type": "code",
   "execution_count": 14,
   "metadata": {},
   "outputs": [
    {
     "name": "stdout",
     "output_type": "stream",
     "text": [
      "RESULTS FOR rbf KERNEL\n",
      "Best parameters set found:\n",
      "{'C': 10, 'gamma': 0.01}\n",
      "\n",
      "Score with best parameters:\n",
      "0.7999999999999999\n",
      "\n",
      "All scores on the grid:\n"
     ]
    },
    {
     "data": {
      "text/html": [
       "<style type=\"text/css\">\n",
       "#T_16be7_row9_col2, #T_16be7_row13_col2 {\n",
       "  color: lightgray;\n",
       "  font-weight: bold;\n",
       "  background-color: darkblue;\n",
       "}\n",
       "</style>\n",
       "<table id=\"T_16be7_\">\n",
       "  <thead>\n",
       "    <tr>\n",
       "      <th class=\"blank level0\" >&nbsp;</th>\n",
       "      <th class=\"col_heading level0 col0\" >C</th>\n",
       "      <th class=\"col_heading level0 col1\" >gamma</th>\n",
       "      <th class=\"col_heading level0 col2\" >mean score</th>\n",
       "    </tr>\n",
       "  </thead>\n",
       "  <tbody>\n",
       "    <tr>\n",
       "      <th id=\"T_16be7_level0_row0\" class=\"row_heading level0 row0\" >0</th>\n",
       "      <td id=\"T_16be7_row0_col0\" class=\"data row0 col0\" >0.100000</td>\n",
       "      <td id=\"T_16be7_row0_col1\" class=\"data row0 col1\" >0.001000</td>\n",
       "      <td id=\"T_16be7_row0_col2\" class=\"data row0 col2\" >0.121667</td>\n",
       "    </tr>\n",
       "    <tr>\n",
       "      <th id=\"T_16be7_level0_row1\" class=\"row_heading level0 row1\" >1</th>\n",
       "      <td id=\"T_16be7_row1_col0\" class=\"data row1 col0\" >0.100000</td>\n",
       "      <td id=\"T_16be7_row1_col1\" class=\"data row1 col1\" >0.010000</td>\n",
       "      <td id=\"T_16be7_row1_col2\" class=\"data row1 col2\" >0.155000</td>\n",
       "    </tr>\n",
       "    <tr>\n",
       "      <th id=\"T_16be7_level0_row2\" class=\"row_heading level0 row2\" >2</th>\n",
       "      <td id=\"T_16be7_row2_col0\" class=\"data row2 col0\" >0.100000</td>\n",
       "      <td id=\"T_16be7_row2_col1\" class=\"data row2 col1\" >0.100000</td>\n",
       "      <td id=\"T_16be7_row2_col2\" class=\"data row2 col2\" >0.121667</td>\n",
       "    </tr>\n",
       "    <tr>\n",
       "      <th id=\"T_16be7_level0_row3\" class=\"row_heading level0 row3\" >3</th>\n",
       "      <td id=\"T_16be7_row3_col0\" class=\"data row3 col0\" >0.100000</td>\n",
       "      <td id=\"T_16be7_row3_col1\" class=\"data row3 col1\" >1.000000</td>\n",
       "      <td id=\"T_16be7_row3_col2\" class=\"data row3 col2\" >0.121667</td>\n",
       "    </tr>\n",
       "    <tr>\n",
       "      <th id=\"T_16be7_level0_row4\" class=\"row_heading level0 row4\" >4</th>\n",
       "      <td id=\"T_16be7_row4_col0\" class=\"data row4 col0\" >1.000000</td>\n",
       "      <td id=\"T_16be7_row4_col1\" class=\"data row4 col1\" >0.001000</td>\n",
       "      <td id=\"T_16be7_row4_col2\" class=\"data row4 col2\" >0.641667</td>\n",
       "    </tr>\n",
       "    <tr>\n",
       "      <th id=\"T_16be7_level0_row5\" class=\"row_heading level0 row5\" >5</th>\n",
       "      <td id=\"T_16be7_row5_col0\" class=\"data row5 col0\" >1.000000</td>\n",
       "      <td id=\"T_16be7_row5_col1\" class=\"data row5 col1\" >0.010000</td>\n",
       "      <td id=\"T_16be7_row5_col2\" class=\"data row5 col2\" >0.773333</td>\n",
       "    </tr>\n",
       "    <tr>\n",
       "      <th id=\"T_16be7_level0_row6\" class=\"row_heading level0 row6\" >6</th>\n",
       "      <td id=\"T_16be7_row6_col0\" class=\"data row6 col0\" >1.000000</td>\n",
       "      <td id=\"T_16be7_row6_col1\" class=\"data row6 col1\" >0.100000</td>\n",
       "      <td id=\"T_16be7_row6_col2\" class=\"data row6 col2\" >0.131667</td>\n",
       "    </tr>\n",
       "    <tr>\n",
       "      <th id=\"T_16be7_level0_row7\" class=\"row_heading level0 row7\" >7</th>\n",
       "      <td id=\"T_16be7_row7_col0\" class=\"data row7 col0\" >1.000000</td>\n",
       "      <td id=\"T_16be7_row7_col1\" class=\"data row7 col1\" >1.000000</td>\n",
       "      <td id=\"T_16be7_row7_col2\" class=\"data row7 col2\" >0.121667</td>\n",
       "    </tr>\n",
       "    <tr>\n",
       "      <th id=\"T_16be7_level0_row8\" class=\"row_heading level0 row8\" >8</th>\n",
       "      <td id=\"T_16be7_row8_col0\" class=\"data row8 col0\" >10.000000</td>\n",
       "      <td id=\"T_16be7_row8_col1\" class=\"data row8 col1\" >0.001000</td>\n",
       "      <td id=\"T_16be7_row8_col2\" class=\"data row8 col2\" >0.746667</td>\n",
       "    </tr>\n",
       "    <tr>\n",
       "      <th id=\"T_16be7_level0_row9\" class=\"row_heading level0 row9\" >9</th>\n",
       "      <td id=\"T_16be7_row9_col0\" class=\"data row9 col0\" >10.000000</td>\n",
       "      <td id=\"T_16be7_row9_col1\" class=\"data row9 col1\" >0.010000</td>\n",
       "      <td id=\"T_16be7_row9_col2\" class=\"data row9 col2\" >0.800000</td>\n",
       "    </tr>\n",
       "    <tr>\n",
       "      <th id=\"T_16be7_level0_row10\" class=\"row_heading level0 row10\" >10</th>\n",
       "      <td id=\"T_16be7_row10_col0\" class=\"data row10 col0\" >10.000000</td>\n",
       "      <td id=\"T_16be7_row10_col1\" class=\"data row10 col1\" >0.100000</td>\n",
       "      <td id=\"T_16be7_row10_col2\" class=\"data row10 col2\" >0.145000</td>\n",
       "    </tr>\n",
       "    <tr>\n",
       "      <th id=\"T_16be7_level0_row11\" class=\"row_heading level0 row11\" >11</th>\n",
       "      <td id=\"T_16be7_row11_col0\" class=\"data row11 col0\" >10.000000</td>\n",
       "      <td id=\"T_16be7_row11_col1\" class=\"data row11 col1\" >1.000000</td>\n",
       "      <td id=\"T_16be7_row11_col2\" class=\"data row11 col2\" >0.121667</td>\n",
       "    </tr>\n",
       "    <tr>\n",
       "      <th id=\"T_16be7_level0_row12\" class=\"row_heading level0 row12\" >12</th>\n",
       "      <td id=\"T_16be7_row12_col0\" class=\"data row12 col0\" >100.000000</td>\n",
       "      <td id=\"T_16be7_row12_col1\" class=\"data row12 col1\" >0.001000</td>\n",
       "      <td id=\"T_16be7_row12_col2\" class=\"data row12 col2\" >0.745000</td>\n",
       "    </tr>\n",
       "    <tr>\n",
       "      <th id=\"T_16be7_level0_row13\" class=\"row_heading level0 row13\" >13</th>\n",
       "      <td id=\"T_16be7_row13_col0\" class=\"data row13 col0\" >100.000000</td>\n",
       "      <td id=\"T_16be7_row13_col1\" class=\"data row13 col1\" >0.010000</td>\n",
       "      <td id=\"T_16be7_row13_col2\" class=\"data row13 col2\" >0.800000</td>\n",
       "    </tr>\n",
       "    <tr>\n",
       "      <th id=\"T_16be7_level0_row14\" class=\"row_heading level0 row14\" >14</th>\n",
       "      <td id=\"T_16be7_row14_col0\" class=\"data row14 col0\" >100.000000</td>\n",
       "      <td id=\"T_16be7_row14_col1\" class=\"data row14 col1\" >0.100000</td>\n",
       "      <td id=\"T_16be7_row14_col2\" class=\"data row14 col2\" >0.145000</td>\n",
       "    </tr>\n",
       "    <tr>\n",
       "      <th id=\"T_16be7_level0_row15\" class=\"row_heading level0 row15\" >15</th>\n",
       "      <td id=\"T_16be7_row15_col0\" class=\"data row15 col0\" >100.000000</td>\n",
       "      <td id=\"T_16be7_row15_col1\" class=\"data row15 col1\" >1.000000</td>\n",
       "      <td id=\"T_16be7_row15_col2\" class=\"data row15 col2\" >0.121667</td>\n",
       "    </tr>\n",
       "  </tbody>\n",
       "</table>\n"
      ],
      "text/plain": [
       "<pandas.io.formats.style.Styler at 0x2188bf96700>"
      ]
     },
     "execution_count": 14,
     "metadata": {},
     "output_type": "execute_result"
    }
   ],
   "source": [
    "# parameters for rbf SVM\n",
    "parameters = {'C': [0.1, 1, 10, 100],'gamma':[0.001, 0.01, 0.1,1]}\n",
    "\n",
    "#run SVM with rbf kernel\n",
    "\n",
    "svc = SVC(kernel = 'rbf')\n",
    "rbf_clf = GridSearchCV(svc, parameters, cv=4)\n",
    "rbf_model = rbf_clf.fit(X_train, y_train)\n",
    "\n",
    "print ('RESULTS FOR rbf KERNEL')\n",
    "print(\"Best parameters set found:\")\n",
    "print(rbf_model.best_params_)\n",
    "\n",
    "print(\"\\nScore with best parameters:\")\n",
    "print(rbf_model.best_score_)\n",
    "\n",
    "print(\"\\nAll scores on the grid:\")\n",
    "params_comb = rbf_model.cv_results_['params']\n",
    "mean_scores = rbf_model.cv_results_['mean_test_score']\n",
    "\n",
    "df = pd.DataFrame({'C': [x['C'] for x in params_comb], 'gamma': [x['gamma'] for x in params_comb], 'mean score': mean_scores})\n",
    "df.style.highlight_max(subset='mean score', props='color:lightgray; font-weight:bold; background-color:darkblue;')"
   ]
  },
  {
   "cell_type": "markdown",
   "metadata": {},
   "source": [
    "## QUESTION 1\n",
    "> What do you observe when using linear, polynomial and RBF kernels on this dataset ?\n",
    "\n",
    "First of all, the SVM kernel that produces the best results is RBF, with parameters: \n",
    "- $C = 10$\n",
    "- $\\gamma = 0.01$\n",
    "\n",
    "**Linear Kernel** <br>\n",
    "With the linear kernel, the scores on the grid are all very similar $(\\simeq 0.73)$, so focusing more on the margin or on avoiding error does not affect very much the result. The best score is obtained with $C=0.01$. \n",
    "\n",
    "**Polynomial kernel** <br>\n",
    "We trained both the polynomial kernel with degree 2 and with degree 3 with the same parameters:\n",
    "- $C=\\{0.01, 0.1, 1\\}$\n",
    "- $\\gamma = \\{0.01,0.1,1\\}$\n",
    "\n",
    "**Degree 2** <br>\n",
    "In this case the best result is obtained with $C = 0.01$ and $\\gamma = 1$. The mean scores are still all very similar and close to the best one (of this model), except for those obtained with\n",
    "- $C = 0.01, \\gamma = 0.01$  &#8594; score: $0.121667$\n",
    "- $C = 0.1, \\gamma = 0.01$  &#8594; score: $0.523333$\n",
    "\n",
    "Here the \"critical\" parameter is $\\gamma$. Indeed, with these values of $C$ we also get good results (e.g. the best one), while in general the bigger is $\\gamma$ the bigger is the mean score (fixed $C$). In particular, with $\\gamma = 0.01$ (small), we are underfitting the data. \n",
    "\n",
    "Finally, the score with the best parameters is bigger than the one resulting from the linear model.  \n",
    "\n",
    "**Degree 3** <br>\n",
    "Using a degree 3 polynomial kernel produces similar results to those obtained with degree 2. Still $\\gamma$ plays an important role. Indeed, with $\\gamma=0.01$, the smaller possible value, we still get the worst results, due to underfitting the data. Moreover, as in the previous case, the scores greater than 0.5 are all very similar and close to the best one. \n",
    "\n",
    "However, with the degree 3 polynomial kernel the best score is smaller than with degree 2. \n",
    "\n",
    "Finally, fixed $C$, in this case it is not true that the bigger is $\\gamma$ the bigger is the mean score. Indeed, the score slightly decreases passing from $\\gamma = 0.1$ to $\\gamma = 1$, meaning that in the last case we are a bit overfitting the data. \n",
    "\n",
    "\n",
    "**RBF Kernel** <br>\n",
    "As expected, The RBF Kernel is the one that produces the best overall score: $0.8$. The parameters can assume these values:\n",
    "- $C=\\{0.1, 1, 10, 100\\}$\n",
    "- $\\gamma = \\{0.001, 0.01, 0.1,1\\}$\n",
    "\n",
    "In this final case, I notice that with $C=0.1$, we always get a very bad score, due to the fact that we are focusing too much on the margin and not on avoiding errors, and so underfitting the data. On the other hand, if we focus on $\\gamma \\geq 0.1$, for all possible values of $C$ we still have a very bad score, but in this case it is due to overfitting the data, meaning that the samples to be close need to be very close. \n",
    "\n",
    "The best trade off between a quite general solution and a solution that fits well the data is obtained with $C=10$ and $\\gamma = 0.01$.\n"
   ]
  },
  {
   "cell_type": "markdown",
   "metadata": {},
   "source": [
    "## TO DO 5\n",
    "Report here the best SVM kernel and parameters"
   ]
  },
  {
   "cell_type": "code",
   "execution_count": 15,
   "metadata": {},
   "outputs": [
    {
     "name": "stdout",
     "output_type": "stream",
     "text": [
      "Best SVM model is RBF with parameters: {'C': 10, 'gamma': 0.01}\n",
      "Best SVM training error: 0.000000\n",
      "Best SVM test error: 0.173500\n"
     ]
    }
   ],
   "source": [
    "#get training and test error for the best SVM model from CV\n",
    "models_print_list = ['linear', 'poly (degree 2)', 'poly (degree 3)', 'RBF']\n",
    "kernels_list = ['linear', 'poly', 'poly', 'rbf']\n",
    "degrees_list = {1: 2, 2: 3}\n",
    "models_list = [lin_model, deg2_model, deg3_model, rbf_model]\n",
    "\n",
    "index_best_SVM = np.argmax(np.array([models_list[i].best_score_ for i in range(4)]))\n",
    "best_SVM = models_list[index_best_SVM]\n",
    "best_param = best_SVM.best_params_\n",
    "best_kern = kernels_list[index_best_SVM]\n",
    "\n",
    "print('Best SVM model is', models_print_list[index_best_SVM], 'with parameters:', best_param)\n",
    "\n",
    "# (error is 1 - svm.score)\n",
    "training_error = 1 - best_SVM.score(X_train, y_train)\n",
    "test_error = 1 - best_SVM.score(X_test, y_test)\n",
    "\n",
    "print (\"Best SVM training error: %f\" % training_error)\n",
    "print (\"Best SVM test error: %f\" % test_error)\n",
    "\n",
    "errors_SVM_600 = np.array([training_error, test_error])"
   ]
  },
  {
   "cell_type": "markdown",
   "metadata": {},
   "source": [
    "## TO DO 6\n",
    "\n",
    "Analyze how the **gamma parameter** (inversely proportional to standard deviation of Gaussian Kernel) impact the performances of the classifier"
   ]
  },
  {
   "cell_type": "code",
   "execution_count": 16,
   "metadata": {},
   "outputs": [
    {
     "name": "stdout",
     "output_type": "stream",
     "text": [
      "Gamma values: 1e-05 0.0001 0.001 0.01 0.1 1.0 10.0 100.0\n"
     ]
    }
   ],
   "source": [
    "# Test with different values of gamma\n",
    "\n",
    "# Set gamma values\n",
    "gamma_values = np.logspace(-5,2,8)\n",
    "print('Gamma values:', *gamma_values)\n"
   ]
  },
  {
   "cell_type": "code",
   "execution_count": 17,
   "metadata": {},
   "outputs": [
    {
     "data": {
      "image/png": "[encoded data removed]",
      "text/plain": [
       "<Figure size 1080x360 with 2 Axes>"
      ]
     },
     "metadata": {
      "needs_background": "light"
     },
     "output_type": "display_data"
    }
   ],
   "source": [
    "# Try the SVM with the previously set values of gamma\n",
    "# use rbf kernel and C=1\n",
    "\n",
    "train_acc_list, test_acc_list = [], []\n",
    "\n",
    "# ADD YOUR CODE TO TRAIN THE SVM MULTIPLE TIMES WITH THE DIFFERENT VALUES OF GAMMA\n",
    "# PLACE THE TRAIN AND TEST ACCURACY FOR EACH TEST IN THE TRAIN AND TEST ACCURACY LISTS\n",
    "for gamma in gamma_values:\n",
    "    model = SVC(kernel = 'rbf', C=1, gamma = gamma)\n",
    "    model.fit(X_train, y_train)\n",
    "    train_acc_list.append(model.score(X_train, y_train))\n",
    "    test_acc_list.append(model.score(X_test, y_test))\n",
    "    \n",
    "# Plot\n",
    "fig, ax = plt.subplots(1,2, figsize=(15,5))\n",
    "\n",
    "ax[0].plot(gamma_values, train_acc_list)\n",
    "ax[0].set_xscale('log')\n",
    "ax[0].set_xlabel('gamma')\n",
    "ax[0].set_ylabel('Train accuracy')\n",
    "ax[0].grid(True)\n",
    "\n",
    "ax[1].plot(gamma_values, test_acc_list)\n",
    "ax[1].set_xscale('log')\n",
    "ax[1].set_xlabel('gamma')\n",
    "ax[1].set_ylabel('Test accuracy')\n",
    "ax[1].grid(True)\n",
    "\n",
    "\n",
    "plt.show()"
   ]
  },
  {
   "cell_type": "markdown",
   "metadata": {},
   "source": [
    "## QUESTION 2\n",
    "> How do the train and test error change when changing gamma? Which is the best value of gamma ? \n",
    "Connect your answers to the discussion about the overfitting issue.\n",
    "\n",
    "When the value of $\\gamma$ increases, the train error decreases monotonically, while the test error reaches a minimum and then starts to rapidly increase. This different behaviour is due to overfitting: when $\\gamma$ is too big, the samples to be close need to be really close, so we are fitting the region over the samples. This leads, obviously, to a smaller training error, but to a bigger test error, because we are learning precisely the training data and not from them. <br>\n",
    "On the other hand, at the beginning, both the accuracies are very small, meaning that we are underfitting the data.  \n",
    "\n",
    "The best value of $\\gamma$ is the one that minimizes the test error (i.e. maximizes the test accuracy), so $\\gamma_{best} = 0.01$."
   ]
  },
  {
   "cell_type": "markdown",
   "metadata": {},
   "source": [
    "## More data\n",
    "Now let's do the same but using more data points for training and all the remaining for testing. \n",
    "\n",
    "\n",
    "Choose a new number of data points."
   ]
  },
  {
   "cell_type": "code",
   "execution_count": 18,
   "metadata": {},
   "outputs": [
    {
     "name": "stdout",
     "output_type": "stream",
     "text": [
      "Labels in training dataset:  [0 1 2 3 4 5 6 7 8 9]\n",
      "Frequencies in training dataset:  [190 205 209 188 206 202 205 202 205 188]\n"
     ]
    }
   ],
   "source": [
    "X = X[permutation]\n",
    "y = y[permutation]\n",
    "\n",
    "m_training = 2000 # TODO number of data points, adjust depending on the capabilities of your PC\n",
    "\n",
    "X_train, X_test = X[:m_training], X[m_training:]\n",
    "y_train, y_test = y[:m_training], y[m_training:]\n",
    "\n",
    "labels, freqs = np.unique(y_train, return_counts=True)\n",
    "print(\"Labels in training dataset: \", labels)\n",
    "print(\"Frequencies in training dataset: \", freqs)"
   ]
  },
  {
   "cell_type": "markdown",
   "metadata": {},
   "source": [
    "## TO DO 7\n",
    "\n",
    "Let's try to use SVM with parameters obtained from the best model for $m_{training} =  2000$. Since it may take a long time to run, you can decide to just let it run for some time and stop it if it does not complete. If you decide to do this, report it in the cell below."
   ]
  },
  {
   "cell_type": "code",
   "execution_count": 19,
   "metadata": {
    "scrolled": true
   },
   "outputs": [
    {
     "name": "stdout",
     "output_type": "stream",
     "text": [
      "Kernel: rbf\n",
      "\n",
      "Best SVM training error: 0.000000\n",
      "Best SVM test error: 0.118966\n"
     ]
    }
   ],
   "source": [
    "#get training and test error for the best SVM model from CV\n",
    "print('Kernel:', best_kern)\n",
    "\n",
    "if best_kern == 'poly':\n",
    "    SVM_2000 = SVC(kernel = best_kern, degree=degrees_list[index_best_SVM], C = best_param['C'], gamma = best_param['gamma'])\n",
    "elif best_kern == 'linear':\n",
    "    SVM_2000 = SVC(kernel = best_kern, C = best_param['C'])\n",
    "else:\n",
    "    SVM_2000 = SVC(kernel = best_kern, C = best_param['C'], gamma = best_param['gamma'])\n",
    "    \n",
    "SVM_2000.fit(X_train, y_train)\n",
    "training_error = 1-SVM_2000.score(X_train, y_train)\n",
    "test_error = 1 - SVM_2000.score(X_test, y_test)\n",
    "\n",
    "print (\"\\nBest SVM training error: %f\" % training_error)\n",
    "print (\"Best SVM test error: %f\" % test_error)\n",
    "\n",
    "errors_SVM_2000 = np.array([training_error, test_error])"
   ]
  },
  {
   "cell_type": "markdown",
   "metadata": {},
   "source": [
    "Just for comparison, let's also use logistic regression \n",
    "\n",
    "## TO DO 8 Try first without regularization (use a very large large C)¶"
   ]
  },
  {
   "cell_type": "code",
   "execution_count": 20,
   "metadata": {},
   "outputs": [
    {
     "name": "stdout",
     "output_type": "stream",
     "text": [
      "Best logistic regression training error: 0.000000\n",
      "Best logistic regression test error: 0.282603\n"
     ]
    }
   ],
   "source": [
    "from sklearn import linear_model\n",
    "\n",
    "logreg = linear_model.LogisticRegression(C=1e5, max_iter=1000)\n",
    "logreg.fit(X_train, y_train)\n",
    "\n",
    "training_error = 1-logreg.score(X_train, y_train)\n",
    "test_error = 1 - logreg.score(X_test, y_test)\n",
    "\n",
    "print (\"Best logistic regression training error: %f\" % training_error)\n",
    "print (\"Best logistic regression test error: %f\" % test_error)\n",
    "\n",
    "errors_LR= np.array([training_error, test_error])"
   ]
  },
  {
   "cell_type": "markdown",
   "metadata": {},
   "source": [
    "## TO DO 9 Try  with regularization (use C=1)¶"
   ]
  },
  {
   "cell_type": "code",
   "execution_count": 21,
   "metadata": {},
   "outputs": [
    {
     "name": "stdout",
     "output_type": "stream",
     "text": [
      "Best regularized logistic regression training error: 0.002500\n",
      "Best regularized logistic regression test error: 0.256259\n"
     ]
    }
   ],
   "source": [
    "logreg = linear_model.LogisticRegression(C=1, max_iter=1000)\n",
    "logreg.fit(X_train, y_train)\n",
    "\n",
    "training_error = 1-logreg.score(X_train, y_train)\n",
    "test_error = 1 - logreg.score(X_test, y_test)\n",
    "\n",
    "print (\"Best regularized logistic regression training error: %f\" % training_error)\n",
    "print (\"Best regularized logistic regression test error: %f\" % test_error)\n",
    "\n",
    "errors_LR_reg = np.array([training_error, test_error])"
   ]
  },
  {
   "cell_type": "code",
   "execution_count": 22,
   "metadata": {},
   "outputs": [
    {
     "data": {
      "text/html": [
       "<style type=\"text/css\">\n",
       "#T_e1039_ th {\n",
       "  text-align: center;\n",
       "  font-weight: bold;\n",
       "}\n",
       "#T_e1039_ td {\n",
       "  text-align: center;\n",
       "}\n",
       "#T_e1039_row1_col1 {\n",
       "  color: lightgray;\n",
       "  font-weight: bold;\n",
       "  background-color: darkblue;\n",
       "}\n",
       "</style>\n",
       "<table id=\"T_e1039_\">\n",
       "  <thead>\n",
       "    <tr>\n",
       "      <th class=\"blank level0\" >&nbsp;</th>\n",
       "      <th class=\"col_heading level0 col0\" colspan=\"2\">SVM</th>\n",
       "      <th class=\"col_heading level0 col2\" colspan=\"2\">Log. Reg.</th>\n",
       "    </tr>\n",
       "    <tr>\n",
       "      <th class=\"blank level1\" >&nbsp;</th>\n",
       "      <th class=\"col_heading level1 col0\" >m=600</th>\n",
       "      <th class=\"col_heading level1 col1\" >m=2000</th>\n",
       "      <th class=\"col_heading level1 col2\" >w/o Regularization</th>\n",
       "      <th class=\"col_heading level1 col3\" >w/ Regularization</th>\n",
       "    </tr>\n",
       "  </thead>\n",
       "  <tbody>\n",
       "    <tr>\n",
       "      <th id=\"T_e1039_level0_row0\" class=\"row_heading level0 row0\" >Training error</th>\n",
       "      <td id=\"T_e1039_row0_col0\" class=\"data row0 col0\" >0.000000</td>\n",
       "      <td id=\"T_e1039_row0_col1\" class=\"data row0 col1\" >0.000000</td>\n",
       "      <td id=\"T_e1039_row0_col2\" class=\"data row0 col2\" >0.000000</td>\n",
       "      <td id=\"T_e1039_row0_col3\" class=\"data row0 col3\" >0.002500</td>\n",
       "    </tr>\n",
       "    <tr>\n",
       "      <th id=\"T_e1039_level0_row1\" class=\"row_heading level0 row1\" >Test error</th>\n",
       "      <td id=\"T_e1039_row1_col0\" class=\"data row1 col0\" >0.173500</td>\n",
       "      <td id=\"T_e1039_row1_col1\" class=\"data row1 col1\" >0.118966</td>\n",
       "      <td id=\"T_e1039_row1_col2\" class=\"data row1 col2\" >0.282603</td>\n",
       "      <td id=\"T_e1039_row1_col3\" class=\"data row1 col3\" >0.256259</td>\n",
       "    </tr>\n",
       "  </tbody>\n",
       "</table>\n"
      ],
      "text/plain": [
       "<pandas.io.formats.style.Styler at 0x2188bf93be0>"
      ]
     },
     "execution_count": 22,
     "metadata": {},
     "output_type": "execute_result"
    }
   ],
   "source": [
    "index_arrays = [np.array(['SVM', 'SVM', 'Log. Reg.', 'Log. Reg.']), \n",
    "                np.array(['m=600', 'm=2000', 'w/o Regularization', 'w/ Regularization'])]\n",
    "errors= np.vstack((errors_SVM_600, errors_SVM_2000, errors_LR, errors_LR_reg)).T\n",
    "dataframe = pd.DataFrame(errors, columns=index_arrays, index=['Training error', 'Test error'])\n",
    "\n",
    "s = dataframe.style\n",
    "s.highlight_min(subset = ('Test error',), axis=1, props='color:lightgray; font-weight:bold; background-color:darkblue;')\n",
    "s.set_table_styles([\n",
    "    {'selector':'th', 'props':'text-align: center; font-weight: bold;'}, \n",
    "    {'selector':'td', 'props':'text-align: center'}, \n",
    "], overwrite = False)\n"
   ]
  },
  {
   "cell_type": "markdown",
   "metadata": {},
   "source": [
    "## QUESTION 3\n",
    "> Compare and discuss:\n",
    "> - the results from SVM with m=600 and with m=2000 training data points. If you stopped the SVM, include such aspect in your comparison.\n",
    "> - the results of SVM and of Logistic Regression\n"
   ]
  },
  {
   "cell_type": "markdown",
   "metadata": {},
   "source": [
    "**SVM: $\\mathbf{m=600}$ vs $\\mathbf{m=2000}$** <br>\n",
    "With a larger number of data samples, the test error decreases, passing from $0.1735$ to $0.1190$. As expected, the model learns better with more data. I also want to highlight that in the m=600 case we used \"only\" 4000 test samples, while with m=2000 training data we decided to use all the remaing for testing. This too may have caused part of the difference between the errors. \n",
    "\n",
    "**SVM vs Logistic Regression** <br>\n",
    "The Logistic Regression gives very similar results to those obtained with SVM, using the linear kernel. This makes a lot of sense, since the Logistic Regression is a linear predictor. It follows that the test error is bigger than that of the SVM best model (RBF). <br>\n",
    "The regularization acts as a stabilizer: without it here there is some overfitting (training error is zero, the test error is bigger), while using it allows to obtain a more general solution. "
   ]
  },
  {
   "cell_type": "markdown",
   "metadata": {},
   "source": [
    "## TO DO 10\n",
    "Plot a character that is missclassified by logistic regression and correctly classified by SVM."
   ]
  },
  {
   "cell_type": "code",
   "execution_count": 23,
   "metadata": {},
   "outputs": [
    {
     "name": "stdout",
     "output_type": "stream",
     "text": [
      "LABEL: 6\n",
      "INPUT:\n"
     ]
    },
    {
     "data": {
      "image/png": "[encoded data removed]",
      "text/plain": [
       "<Figure size 432x288 with 1 Axes>"
      ]
     },
     "metadata": {
      "needs_background": "light"
     },
     "output_type": "display_data"
    },
    {
     "name": "stdout",
     "output_type": "stream",
     "text": [
      "SVM prediction: ま\n",
      "LR prediction: す\n"
     ]
    }
   ],
   "source": [
    "for sample, label, i in zip(X, y, range(X.shape[0])):\n",
    "    if SVM_2000.predict(sample.reshape(1, -1)) == label and logreg.predict(sample.reshape(1, -1)) != label:\n",
    "            LR_prediction = logreg.predict(sample.reshape(1, -1))[0]\n",
    "            SVM_prediction = label\n",
    "            x_missclassified = sample\n",
    "            index = i\n",
    "            break\n",
    "\n",
    "plot_input(X, y, index)\n",
    "print('SVM prediction:', kuzushiji_symbols[SVM_prediction])\n",
    "print('LR prediction:', kuzushiji_symbols[LR_prediction])"
   ]
  },
  {
   "cell_type": "markdown",
   "metadata": {},
   "source": [
    "## TO DO 11\n",
    "Plot the confusion matrix for the SVM classifier and for logistic regression.\n",
    "The confusion matrix has one column for each predicted label and one row for each true label. \n",
    "It shows for each class in the corresponding row how many samples belonging to that class gets each possible output label. In other words, $C_{i, j}$ is equal to the number of observations known to be in group $i$ and predicted to be in group $j$. <br>\n",
    "Notice that the diagonal contains the correctly classified samples, while the other cells correspond to errors.\n",
    "You can obtain it with the sklearn.metrics.confusion_matrix function (see the documentation).\n",
    "Try also to normalize the confusion matrix by the number of samples in each class in order to measure the accuracy on each single class. \n",
    "\n",
    "> We want to obtain it for the test set. \n"
   ]
  },
  {
   "cell_type": "code",
   "execution_count": 24,
   "metadata": {},
   "outputs": [
    {
     "name": "stdout",
     "output_type": "stream",
     "text": [
      "Symbols, labels and frequencies in test set:\n"
     ]
    },
    {
     "data": {
      "text/html": [
       "<div>\n",
       "<style scoped>\n",
       "    .dataframe tbody tr th:only-of-type {\n",
       "        vertical-align: middle;\n",
       "    }\n",
       "\n",
       "    .dataframe tbody tr th {\n",
       "        vertical-align: top;\n",
       "    }\n",
       "\n",
       "    .dataframe thead th {\n",
       "        text-align: right;\n",
       "    }\n",
       "</style>\n",
       "<table border=\"1\" class=\"dataframe\">\n",
       "  <thead>\n",
       "    <tr style=\"text-align: right;\">\n",
       "      <th></th>\n",
       "      <th>お</th>\n",
       "      <th>き</th>\n",
       "      <th>す</th>\n",
       "      <th>つ</th>\n",
       "      <th>な</th>\n",
       "      <th>は</th>\n",
       "      <th>ま</th>\n",
       "      <th>や</th>\n",
       "      <th>れ</th>\n",
       "      <th>を</th>\n",
       "    </tr>\n",
       "  </thead>\n",
       "  <tbody>\n",
       "    <tr>\n",
       "      <th>LABELS</th>\n",
       "      <td>0</td>\n",
       "      <td>1</td>\n",
       "      <td>2</td>\n",
       "      <td>3</td>\n",
       "      <td>4</td>\n",
       "      <td>5</td>\n",
       "      <td>6</td>\n",
       "      <td>7</td>\n",
       "      <td>8</td>\n",
       "      <td>9</td>\n",
       "    </tr>\n",
       "    <tr>\n",
       "      <th>COUNTS</th>\n",
       "      <td>5810</td>\n",
       "      <td>5795</td>\n",
       "      <td>5791</td>\n",
       "      <td>5812</td>\n",
       "      <td>5794</td>\n",
       "      <td>5798</td>\n",
       "      <td>5795</td>\n",
       "      <td>5798</td>\n",
       "      <td>5795</td>\n",
       "      <td>5812</td>\n",
       "    </tr>\n",
       "  </tbody>\n",
       "</table>\n",
       "</div>"
      ],
      "text/plain": [
       "           お     き     す     つ     な     は     ま     や     れ     を\n",
       "LABELS     0     1     2     3     4     5     6     7     8     9\n",
       "COUNTS  5810  5795  5791  5812  5794  5798  5795  5798  5795  5812"
      ]
     },
     "metadata": {},
     "output_type": "display_data"
    },
    {
     "name": "stdout",
     "output_type": "stream",
     "text": [
      "\n",
      " Confusion matrix - SVM and LR\n"
     ]
    },
    {
     "data": {
      "image/png": "[encoded data removed]",
      "text/plain": [
       "<Figure size 1152x576 with 2 Axes>"
      ]
     },
     "metadata": {
      "needs_background": "light"
     },
     "output_type": "display_data"
    },
    {
     "name": "stdout",
     "output_type": "stream",
     "text": [
      "\n",
      " Confusion matrix - SVM and LR (normalized) \n"
     ]
    },
    {
     "data": {
      "image/png": "[encoded data removed]",
      "text/plain": [
       "<Figure size 1152x576 with 2 Axes>"
      ]
     },
     "metadata": {
      "needs_background": "light"
     },
     "output_type": "display_data"
    }
   ],
   "source": [
    "from IPython.display import display\n",
    "\n",
    "np.set_printoptions(precision=2, suppress=True) # for better aligned printing of confusion matrix use floatmode='fixed'\n",
    "\n",
    "# labels and frequencies\n",
    "u, counts = np.unique(y_test, return_counts=True)\n",
    "print(\"Symbols, labels and frequencies in test set:\")\n",
    "kudf = pd.DataFrame({'LABELS':np.arange(10), 'COUNTS': counts}, index=kuzushiji_symbols)\n",
    "display(kudf.T)\n",
    "\n",
    "# confusion matrices\n",
    "confusion_SVM = skm.confusion_matrix(y_test, best_SVM.predict(X_test))\n",
    "confusion_LR = skm.confusion_matrix(y_test, logreg.predict(X_test))\n",
    "\n",
    "# plot (not normalized)\n",
    "print(\"\\n Confusion matrix - SVM and LR\")\n",
    "fig, (ax1, ax2) = plt.subplots(1, 2, figsize=(16, 8))\n",
    "\n",
    "disp = skm.ConfusionMatrixDisplay(confusion_matrix=confusion_SVM, display_labels=range(10))\n",
    "disp.plot(ax=ax1)\n",
    "disp.ax_.set_title('SVM')\n",
    "disp.im_.colorbar.remove()\n",
    "\n",
    "disp = skm.ConfusionMatrixDisplay(confusion_matrix=confusion_LR, display_labels=range(10))\n",
    "disp.plot(ax=ax2)\n",
    "disp.ax_.set_title('LR')\n",
    "disp.im_.colorbar.remove()\n",
    "\n",
    "plt.show()\n",
    "\n",
    "# normalization\n",
    "confusion_SVM_norm = confusion_SVM /counts[:,None]\n",
    "confusion_LR_norm = confusion_LR /counts[:, None]\n",
    "\n",
    "# plot (normalized)\n",
    "print(\"\\n Confusion matrix - SVM and LR (normalized) \")\n",
    "fig, (ax1, ax2) = plt.subplots(1, 2, figsize=(16, 8))\n",
    "\n",
    "disp = skm.ConfusionMatrixDisplay(confusion_matrix=confusion_SVM_norm, display_labels=range(10))\n",
    "disp.plot(ax=ax1)\n",
    "disp.ax_.set_title('SVM')\n",
    "disp.im_.colorbar.remove()\n",
    "\n",
    "disp = skm.ConfusionMatrixDisplay(confusion_matrix=confusion_LR_norm, display_labels=range(10))\n",
    "disp.plot(ax=ax2)\n",
    "disp.ax_.set_title('LR')\n",
    "disp.im_.colorbar.remove()\n",
    "\n",
    "plt.show()"
   ]
  },
  {
   "cell_type": "code",
   "execution_count": 25,
   "metadata": {},
   "outputs": [],
   "source": [
    "# np.set_printoptions(precision=2, suppress=True) # for better aligned printing of confusion matrix use floatmode='fixed'\n",
    "\n",
    "# u, counts = np.unique(y_test, return_counts=True)\n",
    "# print(\"Labels and frequencies in test set: \", counts)\n",
    "\n",
    "# confusion_SVM = skm.confusion_matrix(y_test, best_SVM.predict(X_test))\n",
    "# print(\"\\n Confusion matrix SVM  \\n \\n\", confusion_SVM)\n",
    "# print(\"\\n Confusion matrix SVM (normalized)   \\n \\n\", confusion_SVM /counts[:,None] )\n",
    "\n",
    "# confusion_LR = skm.confusion_matrix(y_test, logreg.predict(X_test))\n",
    "# print(\"\\n Confusion matrix LR  \\n \\n\", confusion_LR)\n",
    "# print(\"\\n Confusion matrix LR (normalized)   \\n \\n\", confusion_LR /counts[:,None] )"
   ]
  },
  {
   "cell_type": "markdown",
   "metadata": {},
   "source": [
    "## QUESTION 4\n",
    "> Have a look at the confusion matrices and comment on the obtained accuracies. Why some classes have lower accuracies and others an higher one ? Make some guesses on the possible causes.\n",
    "\n",
    "The Kuzushiji symbol with the best accuracy is the third: つ. This character is indeed very different from all the others, so the algorithm can easily classify it. The same is true for the symbols with labels 0 and 7 (0 &#8594; お, 7 &#8594; や), although they are both somehow similar to the forth, な (they all have a more or less vertical line, a cross and a tick). This is consistent with the values in the confusion matrix, showing how the class 0 and 7 are mostly missclassified with the label 4.  \n",
    "\n",
    "The second (す) has the worst accuracy. Indeed, from the confusion matrix, it is very often confused with the sixth (ま). This could be caused by the strong similiarity between them, in fact they both have an horizontal and vertical line, and a small circle to their left. \n"
   ]
  }
 ],
 "metadata": {
  "kernelspec": {
   "display_name": "Python 3",
   "language": "python",
   "name": "python3"
  },
  "language_info": {
   "codemirror_mode": {
    "name": "ipython",
    "version": 3
   },
   "file_extension": ".py",
   "mimetype": "text/x-python",
   "name": "python",
   "nbconvert_exporter": "python",
   "pygments_lexer": "ipython3",
   "version": "3.9.7"
  }
 },
 "nbformat": 4,
 "nbformat_minor": 4
}
