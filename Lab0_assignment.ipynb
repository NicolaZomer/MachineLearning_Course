{
 "cells": [
  {
   "cell_type": "markdown",
   "metadata": {},
   "source": [
    "# Hands-on exercise\n",
    "\n",
    "In this simple example you are required to perform a simple linear regression with scipy. Find all the information on the function in the documentation: https://docs.scipy.org/doc/scipy/reference/generated/scipy.stats.linregress.html"
   ]
  },
  {
   "cell_type": "markdown",
   "metadata": {},
   "source": [
    "### Assignment\n",
    "\n",
    "1) Load the provided .csv file with the used car data\n",
    "\n",
    "2) Use a linear regression to estimate the car prices from the year, kilometers or engine power. You can make a simple 1D regression from each one of the parameters independently (as an optional task you can also try a 2D or 3D regression combining multiple cues)\n",
    "\n",
    "3) Firstly perform the estimation using the scipy linregress function (or alternatively you can use the sklearn.linear_model.LinearRegression class).\n",
    "NB: check the documentation of the two methods!! In particular be aware of the number of outputs (in case use \"_\" to avoid the return of a specific output).\n",
    "\n",
    "4) Have a look at the correlation coefficient to see which of the 3 features works better\n",
    "\n",
    "5) Then implement the least square algorithm: you should get exactly the same solution of linregress !\n",
    "\n",
    "6) Plot the data and the lines representing the output of the linregress and least square algorithms\n"
   ]
  },
  {
   "cell_type": "code",
   "execution_count": 20,
   "metadata": {},
   "outputs": [],
   "source": [
    "import matplotlib.pyplot as plt\n",
    "import csv\n",
    "from scipy import stats\n",
    "import numpy as np\n",
    "import sklearn as sl\n",
    "from sklearn import linear_model"
   ]
  },
  {
   "cell_type": "code",
   "execution_count": 17,
   "metadata": {},
   "outputs": [
    {
     "name": "stdout",
     "output_type": "stream",
     "text": [
      "[[1.250000e+05 2.001000e+03 4.000000e+01 1.371110e+03]\n",
      " [1.500000e+05 2.001000e+03 4.000000e+01 1.298700e+03]\n",
      " [5.000000e+03 2.001000e+03 6.000000e+01 1.232430e+03]\n",
      " ...\n",
      " [2.000000e+04 2.015000e+03 2.600000e+02 4.949238e+04]\n",
      " [1.000000e+04 2.015000e+03 3.000000e+02 3.854269e+04]\n",
      " [2.000000e+04 2.015000e+03 3.000000e+02 3.968332e+04]]\n"
     ]
    }
   ],
   "source": [
    "# Load the provided data file with the used car data (you can also have a look at it with any text editor)\n",
    "\n",
    "filename = \"data/km_year_power_price.csv\"\n",
    "lines = csv.reader(open(filename, newline=''), delimiter=',')\n",
    "\n",
    "dataset = list(lines)\n",
    "del dataset[0]\n",
    "\n",
    "for i in range(len(dataset)):\n",
    "    dataset[i] = [float(x) for x in dataset[i]]\n",
    "    \n",
    "dataset = np.array(dataset)\n",
    "\n",
    "print(dataset)\n",
    "\n",
    "data_km = dataset[:, 0:4:3]\n",
    "data_year = dataset[:, 1:4:2]\n",
    "data_power = dataset[:, 2:4]\n"
   ]
  },
  {
   "cell_type": "markdown",
   "metadata": {},
   "source": [
    "Use linear regression to estimate the car prices from the year, kilometers or engine power. \n",
    "You can make a simple 1D regression from each one of the parameters independently \n",
    "\n",
    "\n"
   ]
  },
  {
   "cell_type": "code",
   "execution_count": 30,
   "metadata": {},
   "outputs": [
    {
     "name": "stdout",
     "output_type": "stream",
     "text": [
      "Best correlation: power, rvalue =  0.7085500315263968\n"
     ]
    }
   ],
   "source": [
    "# linear regression with linregress (estimate price from year)\n",
    "\n",
    "result_km = stats.linregress(x=data_km, y=None)\n",
    "result_year = stats.linregress(x=data_year, y=None)\n",
    "result_power = stats.linregress(x=data_power, y=None)\n",
    "\n",
    "# print('Results km-price: ', result_km)\n",
    "# print('Results year-price: ', result_year)\n",
    "# print('Results power-price: ', result_power)\n",
    "\n",
    "correlations = np.array([result_km.rvalue, result_year.rvalue, result_power.rvalue])\n",
    "best_corr = np.argmax(correlations)\n",
    "\n",
    "if best_corr == 0:\n",
    "    print('Best correlation: km, rvalue = ', correlations[0])\n",
    "elif best_corr == 1:\n",
    "    print('Best correlation: year, rvalue = ', correlations[1])\n",
    "elif best_corr == 2:\n",
    "    print('Best correlation: power, rvalue = ', correlations[2])"
   ]
  },
  {
   "cell_type": "code",
   "execution_count": null,
   "metadata": {},
   "outputs": [],
   "source": [
    "# (Optional) linear regression with linear_model.LinearRegression() (estimate price from year)\n",
    "# Recall that in Python a mx1 matrix is different from a 1D array -> need to reshape\n",
    "\n",
    "# your code....."
   ]
  },
  {
   "cell_type": "code",
   "execution_count": null,
   "metadata": {
    "scrolled": true
   },
   "outputs": [],
   "source": [
    "# (Optional) perform linear regression with a manually implemented least squares (estimate price from year)\n",
    "# You should get exactly the same solution of linregress !\n",
    "\n",
    "# your code....."
   ]
  },
  {
   "cell_type": "code",
   "execution_count": null,
   "metadata": {},
   "outputs": [],
   "source": [
    "# Plot the data and the lines representing the output of the linregress and least square algorithms\n",
    "\n",
    "# your code....\n"
   ]
  },
  {
   "cell_type": "code",
   "execution_count": null,
   "metadata": {},
   "outputs": [],
   "source": [
    "# linear regression with linregress (estimate price from power)\n",
    "\n",
    "# your code....."
   ]
  },
  {
   "cell_type": "code",
   "execution_count": null,
   "metadata": {},
   "outputs": [],
   "source": [
    "# linear regression with linregress (estimate price from km)\n",
    "\n",
    "# your code..."
   ]
  },
  {
   "cell_type": "code",
   "execution_count": null,
   "metadata": {},
   "outputs": [],
   "source": [
    "# Have a look at the correlation coefficients to see which of the 3 features works better\n",
    "\n",
    "# your code......"
   ]
  },
  {
   "cell_type": "code",
   "execution_count": null,
   "metadata": {},
   "outputs": [],
   "source": [
    "# (Optional) 2D linear regression with linear model (estimate price from year and power)\n",
    "\n",
    "\n",
    "# your code......\n"
   ]
  }
 ],
 "metadata": {
  "interpreter": {
   "hash": "56cee935aa9a3f3637f03175b8d659cf88f72e32c50a44ffefdb433a8a4e1922"
  },
  "kernelspec": {
   "display_name": "Python 3.9.7 64-bit ('base': conda)",
   "name": "python3"
  },
  "language_info": {
   "codemirror_mode": {
    "name": "ipython",
    "version": 3
   },
   "file_extension": ".py",
   "mimetype": "text/x-python",
   "name": "python",
   "nbconvert_exporter": "python",
   "pygments_lexer": "ipython3",
   "version": "3.9.7"
  }
 },
 "nbformat": 4,
 "nbformat_minor": 2
}
